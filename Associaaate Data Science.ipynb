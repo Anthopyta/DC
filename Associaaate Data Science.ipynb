{
 "cells": [
  {
   "cell_type": "markdown",
   "metadata": {},
   "source": [
    "# Libraries for Data Preprocessing\n",
    "## 3.1 Library Pandas\n",
    "\n",
    "- Pandas adalah library yang digunakan untuk manipulasi, analisis, dan visualisasi data.\n",
    "- Pandas menyediakan struktur data dan fungsi high-level untuk membuat pekerjaan dangan data terstruktur/tabular lebuh cepat, mudah dan ekspresif.\n",
    "\n",
    "## 3.1.1 Membuat data ke Pandas\n",
    "1. Menyalakan Juypyter Notebook di folder kerja Anda. \n",
    "2. Buat baru suatu script ipynb(Python3)\n",
    "3. Import pandas dan numpy. (panstikan sudah terinstal)\n",
    "4. Load file CSV yang sudah diunduh sebelumnya (mengambil data secara menual) ke dalam sebuah DataFrame.\n",
    "5. Gunakan perintah read_csv(`dataset`)\n",
    "\n",
    "Link Dataset: [titanic](titanic.csv)"
   ]
  },
  {
   "cell_type": "code",
   "execution_count": null,
   "metadata": {},
   "outputs": [],
   "source": [
    "import pandas as pd\n",
    "# Contoh csv\n",
    "df = pd.read_csv('titanic.csv')\n",
    "\n",
    "# Contoh excel\n",
    "# df = pd.read_excel('titanic.xlsx')\n",
    "\n",
    "# Contoh sqlite\n",
    "import sqlite3\n",
    "conn = sqlite3.connect('titanic')"
   ]
  }
 ],
 "metadata": {
  "kernelspec": {
   "display_name": "Python 3",
   "language": "python",
   "name": "python3"
  },
  "language_info": {
   "name": "python",
   "version": "3.11.2"
  }
 },
 "nbformat": 4,
 "nbformat_minor": 2
}
